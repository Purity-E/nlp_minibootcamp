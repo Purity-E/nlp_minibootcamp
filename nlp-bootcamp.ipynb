{
 "cells": [
  {
   "cell_type": "code",
   "execution_count": 3,
   "metadata": {},
   "outputs": [
    {
     "name": "stdout",
     "output_type": "stream",
     "text": [
      "Collecting contractions\n",
      "  Downloading contractions-0.1.72-py2.py3-none-any.whl (8.3 kB)\n",
      "Collecting textsearch>=0.0.21\n",
      "  Downloading textsearch-0.0.21-py2.py3-none-any.whl (7.5 kB)\n",
      "Collecting anyascii\n",
      "  Downloading anyascii-0.3.1-py3-none-any.whl (287 kB)\n",
      "Collecting pyahocorasick\n",
      "  Downloading pyahocorasick-1.4.4-cp38-cp38-win_amd64.whl (39 kB)\n",
      "Installing collected packages: pyahocorasick, anyascii, textsearch, contractions\n",
      "Successfully installed anyascii-0.3.1 contractions-0.1.72 pyahocorasick-1.4.4 textsearch-0.0.21\n"
     ]
    },
    {
     "name": "stderr",
     "output_type": "stream",
     "text": [
      "WARNING: You are using pip version 21.3.1; however, version 22.2 is available.\n",
      "You should consider upgrading via the 'c:\\users\\jorn\\anaconda3\\python.exe -m pip install --upgrade pip' command.\n"
     ]
    }
   ],
   "source": [
    "!pip install contractions"
   ]
  },
  {
   "cell_type": "code",
   "execution_count": 1,
   "metadata": {},
   "outputs": [],
   "source": [
    "# importing \n",
    "import pandas as pd\n",
    "import re\n",
    "import numpy as np\n",
    "import spacy\n",
    "import contractions\n",
    "from sklearn.feature_extraction.text import TfidfVectorizer\n",
    "from nltk.tokenize import word_tokenize\n",
    "import nltk\n",
    "from nltk.corpus import wordnet\n",
    "from sklearn.metrics import classification_report\n",
    "from sklearn.metrics import accuracy_score\n",
    "from sklearn.metrics import f1_score\n",
    "import matplotlib.pyplot as plt"
   ]
  },
  {
   "cell_type": "code",
   "execution_count": 2,
   "metadata": {},
   "outputs": [
    {
     "name": "stdout",
     "output_type": "stream",
     "text": [
      "(44262, 2)\n"
     ]
    },
    {
     "data": {
      "text/html": [
       "<div>\n",
       "<style scoped>\n",
       "    .dataframe tbody tr th:only-of-type {\n",
       "        vertical-align: middle;\n",
       "    }\n",
       "\n",
       "    .dataframe tbody tr th {\n",
       "        vertical-align: top;\n",
       "    }\n",
       "\n",
       "    .dataframe thead th {\n",
       "        text-align: right;\n",
       "    }\n",
       "</style>\n",
       "<table border=\"1\" class=\"dataframe\">\n",
       "  <thead>\n",
       "    <tr style=\"text-align: right;\">\n",
       "      <th></th>\n",
       "      <th>headline</th>\n",
       "      <th>is_sarcastic</th>\n",
       "    </tr>\n",
       "  </thead>\n",
       "  <tbody>\n",
       "    <tr>\n",
       "      <th>0</th>\n",
       "      <td>supreme court votes 7-2 to legalize all worldl...</td>\n",
       "      <td>1</td>\n",
       "    </tr>\n",
       "    <tr>\n",
       "      <th>1</th>\n",
       "      <td>hungover man horrified to learn he made dozens...</td>\n",
       "      <td>1</td>\n",
       "    </tr>\n",
       "    <tr>\n",
       "      <th>2</th>\n",
       "      <td>emily's list founder: women are the 'problem s...</td>\n",
       "      <td>0</td>\n",
       "    </tr>\n",
       "    <tr>\n",
       "      <th>3</th>\n",
       "      <td>send your kids back to school with confidence</td>\n",
       "      <td>0</td>\n",
       "    </tr>\n",
       "    <tr>\n",
       "      <th>4</th>\n",
       "      <td>watch: experts talk pesticides and health</td>\n",
       "      <td>0</td>\n",
       "    </tr>\n",
       "    <tr>\n",
       "      <th>5</th>\n",
       "      <td>james corden and the red hot chili peppers str...</td>\n",
       "      <td>0</td>\n",
       "    </tr>\n",
       "    <tr>\n",
       "      <th>6</th>\n",
       "      <td>u.s. dignity reserves nearly depleted</td>\n",
       "      <td>1</td>\n",
       "    </tr>\n",
       "    <tr>\n",
       "      <th>7</th>\n",
       "      <td>how to re-ignite the spark in your body, mind ...</td>\n",
       "      <td>0</td>\n",
       "    </tr>\n",
       "    <tr>\n",
       "      <th>8</th>\n",
       "      <td>report: there still time to convert to christi...</td>\n",
       "      <td>1</td>\n",
       "    </tr>\n",
       "    <tr>\n",
       "      <th>9</th>\n",
       "      <td>education reform and evidence</td>\n",
       "      <td>0</td>\n",
       "    </tr>\n",
       "  </tbody>\n",
       "</table>\n",
       "</div>"
      ],
      "text/plain": [
       "                                            headline  is_sarcastic\n",
       "0  supreme court votes 7-2 to legalize all worldl...             1\n",
       "1  hungover man horrified to learn he made dozens...             1\n",
       "2  emily's list founder: women are the 'problem s...             0\n",
       "3      send your kids back to school with confidence             0\n",
       "4          watch: experts talk pesticides and health             0\n",
       "5  james corden and the red hot chili peppers str...             0\n",
       "6              u.s. dignity reserves nearly depleted             1\n",
       "7  how to re-ignite the spark in your body, mind ...             0\n",
       "8  report: there still time to convert to christi...             1\n",
       "9                      education reform and evidence             0"
      ]
     },
     "execution_count": 2,
     "metadata": {},
     "output_type": "execute_result"
    }
   ],
   "source": [
    "# loading train data\n",
    "train_data = pd.read_csv(r'D:\\Purity\\NLPbootcamp\\Train_Data.csv')\n",
    "print(train_data.shape)\n",
    "train_data.head(10)"
   ]
  },
  {
   "cell_type": "code",
   "execution_count": 3,
   "metadata": {},
   "outputs": [
    {
     "name": "stdout",
     "output_type": "stream",
     "text": [
      "(11066, 1)\n"
     ]
    },
    {
     "data": {
      "text/html": [
       "<div>\n",
       "<style scoped>\n",
       "    .dataframe tbody tr th:only-of-type {\n",
       "        vertical-align: middle;\n",
       "    }\n",
       "\n",
       "    .dataframe tbody tr th {\n",
       "        vertical-align: top;\n",
       "    }\n",
       "\n",
       "    .dataframe thead th {\n",
       "        text-align: right;\n",
       "    }\n",
       "</style>\n",
       "<table border=\"1\" class=\"dataframe\">\n",
       "  <thead>\n",
       "    <tr style=\"text-align: right;\">\n",
       "      <th></th>\n",
       "      <th>headline</th>\n",
       "    </tr>\n",
       "  </thead>\n",
       "  <tbody>\n",
       "    <tr>\n",
       "      <th>0</th>\n",
       "      <td>area stand-up comedian questions the deal with...</td>\n",
       "    </tr>\n",
       "    <tr>\n",
       "      <th>1</th>\n",
       "      <td>dozens of glowing exit signs mercilessly taunt...</td>\n",
       "    </tr>\n",
       "    <tr>\n",
       "      <th>2</th>\n",
       "      <td>perfect response to heckler somewhere in prop ...</td>\n",
       "    </tr>\n",
       "    <tr>\n",
       "      <th>3</th>\n",
       "      <td>gop prays for ossoff lossoff</td>\n",
       "    </tr>\n",
       "    <tr>\n",
       "      <th>4</th>\n",
       "      <td>trevor noah says the scary truth about trump's...</td>\n",
       "    </tr>\n",
       "    <tr>\n",
       "      <th>5</th>\n",
       "      <td>israeli pm debuts new road map for continued s...</td>\n",
       "    </tr>\n",
       "    <tr>\n",
       "      <th>6</th>\n",
       "      <td>after careful thought, teen applies to college...</td>\n",
       "    </tr>\n",
       "    <tr>\n",
       "      <th>7</th>\n",
       "      <td>historical archives: last month's weather</td>\n",
       "    </tr>\n",
       "    <tr>\n",
       "      <th>8</th>\n",
       "      <td>the importance of trying</td>\n",
       "    </tr>\n",
       "    <tr>\n",
       "      <th>9</th>\n",
       "      <td>michigan state took too long with sexual assau...</td>\n",
       "    </tr>\n",
       "  </tbody>\n",
       "</table>\n",
       "</div>"
      ],
      "text/plain": [
       "                                            headline\n",
       "0  area stand-up comedian questions the deal with...\n",
       "1  dozens of glowing exit signs mercilessly taunt...\n",
       "2  perfect response to heckler somewhere in prop ...\n",
       "3                       gop prays for ossoff lossoff\n",
       "4  trevor noah says the scary truth about trump's...\n",
       "5  israeli pm debuts new road map for continued s...\n",
       "6  after careful thought, teen applies to college...\n",
       "7          historical archives: last month's weather\n",
       "8                           the importance of trying\n",
       "9  michigan state took too long with sexual assau..."
      ]
     },
     "execution_count": 3,
     "metadata": {},
     "output_type": "execute_result"
    }
   ],
   "source": [
    "# loading test data\n",
    "test_data = pd.read_csv(r'D:\\Purity\\NLPbootcamp\\Test_Data.csv')\n",
    "print(test_data.shape)\n",
    "test_data.head(10)"
   ]
  },
  {
   "cell_type": "markdown",
   "metadata": {},
   "source": [
    "check missing values"
   ]
  },
  {
   "cell_type": "code",
   "execution_count": 4,
   "metadata": {},
   "outputs": [
    {
     "data": {
      "text/plain": [
       "headline        0\n",
       "is_sarcastic    0\n",
       "dtype: int64"
      ]
     },
     "execution_count": 4,
     "metadata": {},
     "output_type": "execute_result"
    }
   ],
   "source": [
    "train_data.isnull().sum()"
   ]
  },
  {
   "cell_type": "code",
   "execution_count": 5,
   "metadata": {},
   "outputs": [
    {
     "data": {
      "text/plain": [
       "headline    0\n",
       "dtype: int64"
      ]
     },
     "execution_count": 5,
     "metadata": {},
     "output_type": "execute_result"
    }
   ],
   "source": [
    "test_data.isnull().sum()"
   ]
  },
  {
   "cell_type": "markdown",
   "metadata": {},
   "source": [
    "Text preprocessing"
   ]
  },
  {
   "cell_type": "code",
   "execution_count": 6,
   "metadata": {},
   "outputs": [],
   "source": [
    "# normalizing the documents\n",
    "def normalize_document(doc):\n",
    "    # remove special characters\\whitespaces\n",
    "    pattern = r'[^a-zA-Z0-9\\s]'\n",
    "    doc = re.sub(pattern, '', doc)\n",
    "    doc = doc.strip()\n",
    "    doc = contractions.fix(doc)\n",
    "    return doc"
   ]
  },
  {
   "cell_type": "code",
   "execution_count": 7,
   "metadata": {},
   "outputs": [],
   "source": [
    "# removing stopwords \n",
    "nlp = spacy.load('en_core_web_sm')\n",
    "stopwords = nlp.Defaults.stop_words\n",
    "def remove_stop(doc):\n",
    "    #tokenize words\n",
    "    word_tokens = word_tokenize(doc)\n",
    "    #removing stopwords\n",
    "    filtered_tokens = [token for token in word_tokens if token not in stopwords]\n",
    "    return filtered_tokens"
   ]
  },
  {
   "cell_type": "code",
   "execution_count": 8,
   "metadata": {},
   "outputs": [],
   "source": [
    "# lematizing words\n",
    "from nltk.stem import WordNetLemmatizer\n",
    "wnl = WordNetLemmatizer()\n",
    "def lemmatize(doc):\n",
    "    #POS tagging\n",
    "    tagged_tokens = nltk.pos_tag(doc)\n",
    "    # converting the tags\n",
    "    wordnet_tokens = pos_tag_wordnet(tagged_tokens)\n",
    "    #lemmatizing\n",
    "    filtered_doc = ' '.join(wnl.lemmatize(word, tag) for word, tag in wordnet_tokens)\n",
    "    return filtered_doc"
   ]
  },
  {
   "cell_type": "code",
   "execution_count": 9,
   "metadata": {},
   "outputs": [],
   "source": [
    "# function for converting tags\n",
    "def pos_tag_wordnet(tagged_tokens):\n",
    "    tag_map = {'j': wordnet.ADJ, 'v': wordnet.VERB, 'n': wordnet.NOUN, 'r': wordnet.ADV}\n",
    "    new_tagged_tokens = [(word, tag_map.get(tag[0].lower(), wordnet.NOUN))\n",
    "                            for word, tag in tagged_tokens]\n",
    "    return new_tagged_tokens"
   ]
  },
  {
   "cell_type": "code",
   "execution_count": 10,
   "metadata": {},
   "outputs": [
    {
     "data": {
      "text/html": [
       "<div>\n",
       "<style scoped>\n",
       "    .dataframe tbody tr th:only-of-type {\n",
       "        vertical-align: middle;\n",
       "    }\n",
       "\n",
       "    .dataframe tbody tr th {\n",
       "        vertical-align: top;\n",
       "    }\n",
       "\n",
       "    .dataframe thead th {\n",
       "        text-align: right;\n",
       "    }\n",
       "</style>\n",
       "<table border=\"1\" class=\"dataframe\">\n",
       "  <thead>\n",
       "    <tr style=\"text-align: right;\">\n",
       "      <th></th>\n",
       "      <th>headline</th>\n",
       "      <th>is_sarcastic</th>\n",
       "      <th>clean_data</th>\n",
       "    </tr>\n",
       "  </thead>\n",
       "  <tbody>\n",
       "    <tr>\n",
       "      <th>0</th>\n",
       "      <td>supreme court votes 7-2 to legalize all worldl...</td>\n",
       "      <td>1</td>\n",
       "      <td>supreme court vote 72 legalize worldly vice</td>\n",
       "    </tr>\n",
       "    <tr>\n",
       "      <th>1</th>\n",
       "      <td>hungover man horrified to learn he made dozens...</td>\n",
       "      <td>1</td>\n",
       "      <td>hungover man horrify learn dozen plan night</td>\n",
       "    </tr>\n",
       "    <tr>\n",
       "      <th>2</th>\n",
       "      <td>emily's list founder: women are the 'problem s...</td>\n",
       "      <td>0</td>\n",
       "      <td>emilys list founder woman problem solver congress</td>\n",
       "    </tr>\n",
       "    <tr>\n",
       "      <th>3</th>\n",
       "      <td>send your kids back to school with confidence</td>\n",
       "      <td>0</td>\n",
       "      <td>send kid school confidence</td>\n",
       "    </tr>\n",
       "    <tr>\n",
       "      <th>4</th>\n",
       "      <td>watch: experts talk pesticides and health</td>\n",
       "      <td>0</td>\n",
       "      <td>watch expert talk pesticide health</td>\n",
       "    </tr>\n",
       "  </tbody>\n",
       "</table>\n",
       "</div>"
      ],
      "text/plain": [
       "                                            headline  is_sarcastic  \\\n",
       "0  supreme court votes 7-2 to legalize all worldl...             1   \n",
       "1  hungover man horrified to learn he made dozens...             1   \n",
       "2  emily's list founder: women are the 'problem s...             0   \n",
       "3      send your kids back to school with confidence             0   \n",
       "4          watch: experts talk pesticides and health             0   \n",
       "\n",
       "                                          clean_data  \n",
       "0        supreme court vote 72 legalize worldly vice  \n",
       "1        hungover man horrify learn dozen plan night  \n",
       "2  emilys list founder woman problem solver congress  \n",
       "3                         send kid school confidence  \n",
       "4                 watch expert talk pesticide health  "
      ]
     },
     "execution_count": 10,
     "metadata": {},
     "output_type": "execute_result"
    }
   ],
   "source": [
    "train_data['clean_data'] = train_data['headline'].apply(lambda x: normalize_document(x)) # normalize text\n",
    "train_data['clean_data'] = train_data['clean_data'].apply(lambda x: remove_stop(x)) # remove stopwords\n",
    "train_data['clean_data'] = train_data['clean_data'].apply(lambda x: lemmatize(x)) # lemmatize text\n",
    "train_data.head()"
   ]
  },
  {
   "cell_type": "code",
   "execution_count": 11,
   "metadata": {},
   "outputs": [
    {
     "data": {
      "text/plain": [
       "0    23958\n",
       "1    20304\n",
       "Name: is_sarcastic, dtype: int64"
      ]
     },
     "execution_count": 11,
     "metadata": {},
     "output_type": "execute_result"
    }
   ],
   "source": [
    "# checking imbalanced data\n",
    "train_data['is_sarcastic'].value_counts()"
   ]
  },
  {
   "cell_type": "markdown",
   "metadata": {},
   "source": [
    "splitting train data into train set and validation set"
   ]
  },
  {
   "cell_type": "code",
   "execution_count": 12,
   "metadata": {},
   "outputs": [],
   "source": [
    "#importing train_test_split library\n",
    "from sklearn.model_selection import train_test_split\n",
    "#split to get test set\n",
    "df_train, df_val = train_test_split(train_data, test_size=0.2, random_state=1)"
   ]
  },
  {
   "cell_type": "code",
   "execution_count": 13,
   "metadata": {},
   "outputs": [],
   "source": [
    "#creating the label\n",
    "y_train = df_train.is_sarcastic.values\n",
    "y_val = df_val.is_sarcastic.values"
   ]
  },
  {
   "cell_type": "code",
   "execution_count": 14,
   "metadata": {},
   "outputs": [
    {
     "name": "stdout",
     "output_type": "stream",
     "text": [
      "(35409, 3)\n",
      "(35409,)\n",
      "(8853, 3)\n",
      "(8853,)\n"
     ]
    },
    {
     "data": {
      "text/plain": [
       "(None, None, None, None)"
      ]
     },
     "execution_count": 14,
     "metadata": {},
     "output_type": "execute_result"
    }
   ],
   "source": [
    "print(df_train.shape), print(y_train.shape), print(df_val.shape), print(y_val.shape)"
   ]
  },
  {
   "cell_type": "markdown",
   "metadata": {},
   "source": [
    "Encoding text data & feature engineering"
   ]
  },
  {
   "cell_type": "code",
   "execution_count": 15,
   "metadata": {},
   "outputs": [],
   "source": [
    "# importing count vectorizer\n",
    "from sklearn.feature_extraction.text import CountVectorizer"
   ]
  },
  {
   "cell_type": "code",
   "execution_count": 16,
   "metadata": {},
   "outputs": [],
   "source": [
    "#creating a function for encoding text data\n",
    "def transform_text(data):\n",
    "    #transforming with count vectorizer\n",
    "    vectorizer = CountVectorizer()\n",
    "    vectorizer.fit(df_train['clean_data'])\n",
    "    cv = vectorizer.transform(data.clean_data)\n",
    "    return cv"
   ]
  },
  {
   "cell_type": "code",
   "execution_count": 17,
   "metadata": {},
   "outputs": [
    {
     "name": "stdout",
     "output_type": "stream",
     "text": [
      "(35409, 22282)\n"
     ]
    }
   ],
   "source": [
    "#transforming train data\n",
    "train_data = transform_text(df_train)\n",
    "print(train_data.shape)"
   ]
  },
  {
   "cell_type": "code",
   "execution_count": 18,
   "metadata": {},
   "outputs": [
    {
     "name": "stdout",
     "output_type": "stream",
     "text": [
      "(8853, 22282)\n"
     ]
    }
   ],
   "source": [
    "#transforming validation data\n",
    "val_data = transform_text(df_val)\n",
    "print(val_data.shape)"
   ]
  },
  {
   "cell_type": "markdown",
   "metadata": {},
   "source": [
    "Creating a model for training and testing"
   ]
  },
  {
   "cell_type": "markdown",
   "metadata": {},
   "source": [
    "1. Logistic regression"
   ]
  },
  {
   "cell_type": "code",
   "execution_count": 53,
   "metadata": {},
   "outputs": [],
   "source": [
    "from sklearn.linear_model import LogisticRegression"
   ]
  },
  {
   "cell_type": "code",
   "execution_count": 54,
   "metadata": {},
   "outputs": [
    {
     "data": {
      "text/plain": [
       "LogisticRegression(max_iter=500)"
      ]
     },
     "execution_count": 54,
     "metadata": {},
     "output_type": "execute_result"
    }
   ],
   "source": [
    "lr = LogisticRegression(max_iter=500, solver='lbfgs')\n",
    "lr.fit(train_data, y_train) #fitting  model"
   ]
  },
  {
   "cell_type": "code",
   "execution_count": 55,
   "metadata": {},
   "outputs": [
    {
     "name": "stdout",
     "output_type": "stream",
     "text": [
      "[-0.84950421]\n",
      "[[ 0.55015896  0.00654082 -0.91718171 ...  1.49976162 -0.21771884\n",
      "   0.58352041]]\n"
     ]
    }
   ],
   "source": [
    "# examine model coefficients\n",
    "print(lr.intercept_)\n",
    "print(lr.coef_)"
   ]
  },
  {
   "cell_type": "code",
   "execution_count": 56,
   "metadata": {},
   "outputs": [
    {
     "name": "stdout",
     "output_type": "stream",
     "text": [
      "[1 1 1 ... 0 1 1]\n"
     ]
    }
   ],
   "source": [
    "#predicting \n",
    "y_pred = lr.predict(val_data)#predicting validation values\n",
    "train_pred = lr.predict(train_data)#predicting train values\n",
    "print(y_pred)"
   ]
  },
  {
   "cell_type": "code",
   "execution_count": 57,
   "metadata": {},
   "outputs": [
    {
     "name": "stdout",
     "output_type": "stream",
     "text": [
      "train results\n",
      "              precision    recall  f1-score   support\n",
      "\n",
      "           0       0.94      0.96      0.95     19205\n",
      "           1       0.95      0.92      0.93     16204\n",
      "\n",
      "    accuracy                           0.94     35409\n",
      "   macro avg       0.94      0.94      0.94     35409\n",
      "weighted avg       0.94      0.94      0.94     35409\n",
      "\n",
      "accuracy - 0.9403823886582507\n",
      " \n",
      "Validation results\n",
      "              precision    recall  f1-score   support\n",
      "\n",
      "           0       0.86      0.90      0.88      4753\n",
      "           1       0.88      0.83      0.85      4100\n",
      "\n",
      "    accuracy                           0.87      8853\n",
      "   macro avg       0.87      0.86      0.86      8853\n",
      "weighted avg       0.87      0.87      0.87      8853\n",
      "\n",
      "accuracy - 0.8659211566700553\n"
     ]
    }
   ],
   "source": [
    "# evaluation\n",
    "print('train results')\n",
    "print(classification_report(y_train,train_pred))\n",
    "print(f'accuracy - {accuracy_score(y_train,train_pred)}')\n",
    "print(' ')\n",
    "print('Validation results')\n",
    "print(classification_report(y_val,y_pred))\n",
    "print(f'accuracy - {accuracy_score(y_val,y_pred)}')"
   ]
  },
  {
   "cell_type": "markdown",
   "metadata": {},
   "source": [
    "2. Decision Trees"
   ]
  },
  {
   "cell_type": "code",
   "execution_count": 50,
   "metadata": {},
   "outputs": [
    {
     "data": {
      "text/plain": [
       "DecisionTreeClassifier()"
      ]
     },
     "execution_count": 50,
     "metadata": {},
     "output_type": "execute_result"
    }
   ],
   "source": [
    "from sklearn.tree import DecisionTreeClassifier\n",
    "#training\n",
    "dt = DecisionTreeClassifier(min_samples_leaf=1)\n",
    "dt.fit(train_data, y_train)"
   ]
  },
  {
   "cell_type": "code",
   "execution_count": 51,
   "metadata": {},
   "outputs": [],
   "source": [
    "# predicting\n",
    "y_pred = dt.predict(val_data)\n",
    "train_pred = dt.predict(train_data)"
   ]
  },
  {
   "cell_type": "code",
   "execution_count": 52,
   "metadata": {},
   "outputs": [
    {
     "name": "stdout",
     "output_type": "stream",
     "text": [
      "train results\n",
      "              precision    recall  f1-score   support\n",
      "\n",
      "           0       1.00      1.00      1.00     19205\n",
      "           1       1.00      1.00      1.00     16204\n",
      "\n",
      "    accuracy                           1.00     35409\n",
      "   macro avg       1.00      1.00      1.00     35409\n",
      "weighted avg       1.00      1.00      1.00     35409\n",
      "\n",
      "accuracy - 1.0\n",
      " \n",
      "Validation results\n",
      "              precision    recall  f1-score   support\n",
      "\n",
      "           0       0.89      0.91      0.90      4753\n",
      "           1       0.90      0.88      0.89      4100\n",
      "\n",
      "    accuracy                           0.90      8853\n",
      "   macro avg       0.90      0.89      0.90      8853\n",
      "weighted avg       0.90      0.90      0.90      8853\n",
      "\n",
      "accuracy - 0.8961933807748785\n"
     ]
    }
   ],
   "source": [
    "# evaluation\n",
    "print('train results')\n",
    "print(classification_report(y_train,train_pred))\n",
    "print(f'accuracy - {accuracy_score(y_train,train_pred)}')\n",
    "print(' ')\n",
    "print('Validation results')\n",
    "print(classification_report(y_val,y_pred))\n",
    "print(f'accuracy - {accuracy_score(y_val,y_pred)}')"
   ]
  },
  {
   "cell_type": "code",
   "execution_count": 82,
   "metadata": {},
   "outputs": [],
   "source": [
    "#selecting the best max_depth and min sample of leaf\n",
    "dt_scores = [] #creating an empty list\n",
    "for d in [ 500, 600, 700, 800, 900, 1000, 1500, 2000]:#iterating max depth\n",
    "    for s in [1, 5]:#iterating min leaf\n",
    "        dt = DecisionTreeClassifier(max_depth=d, min_samples_leaf=s)\n",
    "        dt.fit(train_data, y_train)\n",
    "        y_pred = dt.predict(val_data)\n",
    "        f1 = f1_score(y_val, y_pred)\n",
    "        accuracy = accuracy_score(y_val,y_pred)\n",
    "        dt_scores.append((d,s,f1,accuracy))"
   ]
  },
  {
   "cell_type": "code",
   "execution_count": 83,
   "metadata": {},
   "outputs": [
    {
     "data": {
      "text/html": [
       "<div>\n",
       "<style scoped>\n",
       "    .dataframe tbody tr th:only-of-type {\n",
       "        vertical-align: middle;\n",
       "    }\n",
       "\n",
       "    .dataframe tbody tr th {\n",
       "        vertical-align: top;\n",
       "    }\n",
       "\n",
       "    .dataframe thead th {\n",
       "        text-align: right;\n",
       "    }\n",
       "</style>\n",
       "<table border=\"1\" class=\"dataframe\">\n",
       "  <thead>\n",
       "    <tr style=\"text-align: right;\">\n",
       "      <th></th>\n",
       "      <th>max_depth</th>\n",
       "      <th>min_samples_leaf</th>\n",
       "      <th>F1_Score</th>\n",
       "      <th>Accuracy</th>\n",
       "    </tr>\n",
       "  </thead>\n",
       "  <tbody>\n",
       "    <tr>\n",
       "      <th>0</th>\n",
       "      <td>500</td>\n",
       "      <td>1</td>\n",
       "      <td>0.804421</td>\n",
       "      <td>0.836101</td>\n",
       "    </tr>\n",
       "    <tr>\n",
       "      <th>1</th>\n",
       "      <td>500</td>\n",
       "      <td>5</td>\n",
       "      <td>0.716260</td>\n",
       "      <td>0.751836</td>\n",
       "    </tr>\n",
       "    <tr>\n",
       "      <th>2</th>\n",
       "      <td>600</td>\n",
       "      <td>1</td>\n",
       "      <td>0.824598</td>\n",
       "      <td>0.849543</td>\n",
       "    </tr>\n",
       "    <tr>\n",
       "      <th>3</th>\n",
       "      <td>600</td>\n",
       "      <td>5</td>\n",
       "      <td>0.723211</td>\n",
       "      <td>0.752287</td>\n",
       "    </tr>\n",
       "    <tr>\n",
       "      <th>4</th>\n",
       "      <td>700</td>\n",
       "      <td>1</td>\n",
       "      <td>0.837897</td>\n",
       "      <td>0.858918</td>\n",
       "    </tr>\n",
       "    <tr>\n",
       "      <th>5</th>\n",
       "      <td>700</td>\n",
       "      <td>5</td>\n",
       "      <td>0.728406</td>\n",
       "      <td>0.753869</td>\n",
       "    </tr>\n",
       "    <tr>\n",
       "      <th>6</th>\n",
       "      <td>800</td>\n",
       "      <td>1</td>\n",
       "      <td>0.836835</td>\n",
       "      <td>0.857901</td>\n",
       "    </tr>\n",
       "    <tr>\n",
       "      <th>7</th>\n",
       "      <td>800</td>\n",
       "      <td>5</td>\n",
       "      <td>0.727656</td>\n",
       "      <td>0.752174</td>\n",
       "    </tr>\n",
       "    <tr>\n",
       "      <th>8</th>\n",
       "      <td>900</td>\n",
       "      <td>1</td>\n",
       "      <td>0.844616</td>\n",
       "      <td>0.863888</td>\n",
       "    </tr>\n",
       "    <tr>\n",
       "      <th>9</th>\n",
       "      <td>900</td>\n",
       "      <td>5</td>\n",
       "      <td>0.729159</td>\n",
       "      <td>0.752287</td>\n",
       "    </tr>\n",
       "    <tr>\n",
       "      <th>10</th>\n",
       "      <td>1000</td>\n",
       "      <td>1</td>\n",
       "      <td>0.844918</td>\n",
       "      <td>0.863662</td>\n",
       "    </tr>\n",
       "    <tr>\n",
       "      <th>11</th>\n",
       "      <td>1000</td>\n",
       "      <td>5</td>\n",
       "      <td>0.729476</td>\n",
       "      <td>0.752852</td>\n",
       "    </tr>\n",
       "    <tr>\n",
       "      <th>12</th>\n",
       "      <td>1500</td>\n",
       "      <td>1</td>\n",
       "      <td>0.874126</td>\n",
       "      <td>0.886140</td>\n",
       "    </tr>\n",
       "    <tr>\n",
       "      <th>13</th>\n",
       "      <td>1500</td>\n",
       "      <td>5</td>\n",
       "      <td>0.729592</td>\n",
       "      <td>0.753417</td>\n",
       "    </tr>\n",
       "    <tr>\n",
       "      <th>14</th>\n",
       "      <td>2000</td>\n",
       "      <td>1</td>\n",
       "      <td>0.885686</td>\n",
       "      <td>0.895177</td>\n",
       "    </tr>\n",
       "    <tr>\n",
       "      <th>15</th>\n",
       "      <td>2000</td>\n",
       "      <td>5</td>\n",
       "      <td>0.726823</td>\n",
       "      <td>0.750706</td>\n",
       "    </tr>\n",
       "  </tbody>\n",
       "</table>\n",
       "</div>"
      ],
      "text/plain": [
       "    max_depth  min_samples_leaf  F1_Score  Accuracy\n",
       "0         500                 1  0.804421  0.836101\n",
       "1         500                 5  0.716260  0.751836\n",
       "2         600                 1  0.824598  0.849543\n",
       "3         600                 5  0.723211  0.752287\n",
       "4         700                 1  0.837897  0.858918\n",
       "5         700                 5  0.728406  0.753869\n",
       "6         800                 1  0.836835  0.857901\n",
       "7         800                 5  0.727656  0.752174\n",
       "8         900                 1  0.844616  0.863888\n",
       "9         900                 5  0.729159  0.752287\n",
       "10       1000                 1  0.844918  0.863662\n",
       "11       1000                 5  0.729476  0.752852\n",
       "12       1500                 1  0.874126  0.886140\n",
       "13       1500                 5  0.729592  0.753417\n",
       "14       2000                 1  0.885686  0.895177\n",
       "15       2000                 5  0.726823  0.750706"
      ]
     },
     "execution_count": 83,
     "metadata": {},
     "output_type": "execute_result"
    }
   ],
   "source": [
    "columns = ['max_depth', 'min_samples_leaf','F1_Score', 'Accuracy']\n",
    "#creating dataframe\n",
    "df_dtscores = pd.DataFrame(dt_scores, columns=columns)\n",
    "df_dtscores"
   ]
  },
  {
   "cell_type": "code",
   "execution_count": 84,
   "metadata": {},
   "outputs": [
    {
     "data": {
      "text/plain": [
       "<matplotlib.legend.Legend at 0x228abd0a220>"
      ]
     },
     "execution_count": 84,
     "metadata": {},
     "output_type": "execute_result"
    },
    {
     "data": {
      "image/png": "[encoded data removed]",
      "text/plain": [
       "<Figure size 432x288 with 1 Axes>"
      ]
     },
     "metadata": {
      "needs_background": "light"
     },
     "output_type": "display_data"
    }
   ],
   "source": [
    "# plotting\n",
    "for s in [1,5]:\n",
    "    df_subset = df_dtscores[df_dtscores.min_samples_leaf == s]\n",
    "    \n",
    "    plt.plot(df_subset.max_depth, df_subset.F1_Score, \n",
    "             label='min_samples_leaf=%d' % s)\n",
    "\n",
    "plt.legend()"
   ]
  },
  {
   "cell_type": "markdown",
   "metadata": {},
   "source": [
    "3. Random Forest"
   ]
  },
  {
   "cell_type": "code",
   "execution_count": 47,
   "metadata": {},
   "outputs": [
    {
     "data": {
      "text/plain": [
       "RandomForestClassifier(max_depth=1500, n_estimators=50, random_state=1)"
      ]
     },
     "execution_count": 47,
     "metadata": {},
     "output_type": "execute_result"
    }
   ],
   "source": [
    "# training\n",
    "from sklearn.ensemble import RandomForestClassifier\n",
    "rf = RandomForestClassifier(n_estimators=50,\n",
    "                            max_depth=1500,\n",
    "                            random_state=1)\n",
    "rf.fit(train_data, y_train)"
   ]
  },
  {
   "cell_type": "code",
   "execution_count": 48,
   "metadata": {},
   "outputs": [],
   "source": [
    "# predicting\n",
    "y_pred = rf.predict(val_data)\n",
    "train_pred = rf.predict(train_data)"
   ]
  },
  {
   "cell_type": "code",
   "execution_count": 49,
   "metadata": {},
   "outputs": [
    {
     "name": "stdout",
     "output_type": "stream",
     "text": [
      "train results\n",
      "              precision    recall  f1-score   support\n",
      "\n",
      "           0       1.00      1.00      1.00     19205\n",
      "           1       1.00      1.00      1.00     16204\n",
      "\n",
      "    accuracy                           1.00     35409\n",
      "   macro avg       1.00      1.00      1.00     35409\n",
      "weighted avg       1.00      1.00      1.00     35409\n",
      "\n",
      "accuracy - 0.9992657234036545\n",
      " \n",
      "Validation results\n",
      "              precision    recall  f1-score   support\n",
      "\n",
      "           0       0.88      0.96      0.92      4753\n",
      "           1       0.94      0.85      0.89      4100\n",
      "\n",
      "    accuracy                           0.91      8853\n",
      "   macro avg       0.91      0.90      0.90      8853\n",
      "weighted avg       0.91      0.91      0.90      8853\n",
      "\n",
      "accuracy - 0.9050039534621033\n"
     ]
    }
   ],
   "source": [
    "# evaluation\n",
    "print('train results')\n",
    "print(classification_report(y_train,train_pred))\n",
    "print(f'accuracy - {accuracy_score(y_train,train_pred)}')\n",
    "print(' ')\n",
    "print('Validation results')\n",
    "print(classification_report(y_val,y_pred))\n",
    "print(f'accuracy - {accuracy_score(y_val,y_pred)}')"
   ]
  },
  {
   "cell_type": "code",
   "execution_count": 23,
   "metadata": {},
   "outputs": [],
   "source": [
    "#selecting the best max_depth and min sample of leaf\n",
    "dt_scores = [] #creating an empty list\n",
    "for d in [100,200,300,400, 500, 600, 700, 800]:#iterating max depth\n",
    "    for n in [10, 20, 30, 40, 50]:#iterating min leaf\n",
    "        rf = RandomForestClassifier(n_estimators=n,\n",
    "                            max_depth=d,\n",
    "                            random_state=1)\n",
    "        rf.fit(train_data, y_train)\n",
    "        y_pred = rf.predict(val_data)\n",
    "        f1 = f1_score(y_val, y_pred)\n",
    "        accuracy = accuracy_score(y_val,y_pred)\n",
    "        dt_scores.append((d,n,f1,accuracy))"
   ]
  },
  {
   "cell_type": "code",
   "execution_count": 24,
   "metadata": {},
   "outputs": [
    {
     "data": {
      "text/html": [
       "<div>\n",
       "<style scoped>\n",
       "    .dataframe tbody tr th:only-of-type {\n",
       "        vertical-align: middle;\n",
       "    }\n",
       "\n",
       "    .dataframe tbody tr th {\n",
       "        vertical-align: top;\n",
       "    }\n",
       "\n",
       "    .dataframe thead th {\n",
       "        text-align: right;\n",
       "    }\n",
       "</style>\n",
       "<table border=\"1\" class=\"dataframe\">\n",
       "  <thead>\n",
       "    <tr style=\"text-align: right;\">\n",
       "      <th></th>\n",
       "      <th>max_depth</th>\n",
       "      <th>n_estimators</th>\n",
       "      <th>F1_Score</th>\n",
       "      <th>Accuracy</th>\n",
       "    </tr>\n",
       "  </thead>\n",
       "  <tbody>\n",
       "    <tr>\n",
       "      <th>0</th>\n",
       "      <td>100</td>\n",
       "      <td>10</td>\n",
       "      <td>0.686198</td>\n",
       "      <td>0.765277</td>\n",
       "    </tr>\n",
       "    <tr>\n",
       "      <th>1</th>\n",
       "      <td>100</td>\n",
       "      <td>20</td>\n",
       "      <td>0.706608</td>\n",
       "      <td>0.779849</td>\n",
       "    </tr>\n",
       "    <tr>\n",
       "      <th>2</th>\n",
       "      <td>100</td>\n",
       "      <td>30</td>\n",
       "      <td>0.709813</td>\n",
       "      <td>0.782221</td>\n",
       "    </tr>\n",
       "    <tr>\n",
       "      <th>3</th>\n",
       "      <td>100</td>\n",
       "      <td>40</td>\n",
       "      <td>0.712498</td>\n",
       "      <td>0.784593</td>\n",
       "    </tr>\n",
       "    <tr>\n",
       "      <th>4</th>\n",
       "      <td>100</td>\n",
       "      <td>50</td>\n",
       "      <td>0.708125</td>\n",
       "      <td>0.782108</td>\n",
       "    </tr>\n",
       "    <tr>\n",
       "      <th>5</th>\n",
       "      <td>200</td>\n",
       "      <td>10</td>\n",
       "      <td>0.761080</td>\n",
       "      <td>0.810008</td>\n",
       "    </tr>\n",
       "    <tr>\n",
       "      <th>6</th>\n",
       "      <td>200</td>\n",
       "      <td>20</td>\n",
       "      <td>0.768287</td>\n",
       "      <td>0.816446</td>\n",
       "    </tr>\n",
       "    <tr>\n",
       "      <th>7</th>\n",
       "      <td>200</td>\n",
       "      <td>30</td>\n",
       "      <td>0.773770</td>\n",
       "      <td>0.820739</td>\n",
       "    </tr>\n",
       "    <tr>\n",
       "      <th>8</th>\n",
       "      <td>200</td>\n",
       "      <td>40</td>\n",
       "      <td>0.777367</td>\n",
       "      <td>0.823111</td>\n",
       "    </tr>\n",
       "    <tr>\n",
       "      <th>9</th>\n",
       "      <td>200</td>\n",
       "      <td>50</td>\n",
       "      <td>0.776749</td>\n",
       "      <td>0.822998</td>\n",
       "    </tr>\n",
       "    <tr>\n",
       "      <th>10</th>\n",
       "      <td>300</td>\n",
       "      <td>10</td>\n",
       "      <td>0.789415</td>\n",
       "      <td>0.829210</td>\n",
       "    </tr>\n",
       "    <tr>\n",
       "      <th>11</th>\n",
       "      <td>300</td>\n",
       "      <td>20</td>\n",
       "      <td>0.801444</td>\n",
       "      <td>0.838473</td>\n",
       "    </tr>\n",
       "    <tr>\n",
       "      <th>12</th>\n",
       "      <td>300</td>\n",
       "      <td>30</td>\n",
       "      <td>0.803725</td>\n",
       "      <td>0.840506</td>\n",
       "    </tr>\n",
       "    <tr>\n",
       "      <th>13</th>\n",
       "      <td>300</td>\n",
       "      <td>40</td>\n",
       "      <td>0.808440</td>\n",
       "      <td>0.844121</td>\n",
       "    </tr>\n",
       "    <tr>\n",
       "      <th>14</th>\n",
       "      <td>300</td>\n",
       "      <td>50</td>\n",
       "      <td>0.808328</td>\n",
       "      <td>0.844008</td>\n",
       "    </tr>\n",
       "    <tr>\n",
       "      <th>15</th>\n",
       "      <td>400</td>\n",
       "      <td>10</td>\n",
       "      <td>0.803702</td>\n",
       "      <td>0.839489</td>\n",
       "    </tr>\n",
       "    <tr>\n",
       "      <th>16</th>\n",
       "      <td>400</td>\n",
       "      <td>20</td>\n",
       "      <td>0.820702</td>\n",
       "      <td>0.851689</td>\n",
       "    </tr>\n",
       "    <tr>\n",
       "      <th>17</th>\n",
       "      <td>400</td>\n",
       "      <td>30</td>\n",
       "      <td>0.821438</td>\n",
       "      <td>0.852479</td>\n",
       "    </tr>\n",
       "    <tr>\n",
       "      <th>18</th>\n",
       "      <td>400</td>\n",
       "      <td>40</td>\n",
       "      <td>0.825410</td>\n",
       "      <td>0.855642</td>\n",
       "    </tr>\n",
       "    <tr>\n",
       "      <th>19</th>\n",
       "      <td>400</td>\n",
       "      <td>50</td>\n",
       "      <td>0.826747</td>\n",
       "      <td>0.856885</td>\n",
       "    </tr>\n",
       "    <tr>\n",
       "      <th>20</th>\n",
       "      <td>500</td>\n",
       "      <td>10</td>\n",
       "      <td>0.817480</td>\n",
       "      <td>0.850446</td>\n",
       "    </tr>\n",
       "    <tr>\n",
       "      <th>21</th>\n",
       "      <td>500</td>\n",
       "      <td>20</td>\n",
       "      <td>0.829148</td>\n",
       "      <td>0.858579</td>\n",
       "    </tr>\n",
       "    <tr>\n",
       "      <th>22</th>\n",
       "      <td>500</td>\n",
       "      <td>30</td>\n",
       "      <td>0.834039</td>\n",
       "      <td>0.862758</td>\n",
       "    </tr>\n",
       "    <tr>\n",
       "      <th>23</th>\n",
       "      <td>500</td>\n",
       "      <td>40</td>\n",
       "      <td>0.837007</td>\n",
       "      <td>0.864679</td>\n",
       "    </tr>\n",
       "    <tr>\n",
       "      <th>24</th>\n",
       "      <td>500</td>\n",
       "      <td>50</td>\n",
       "      <td>0.839744</td>\n",
       "      <td>0.866825</td>\n",
       "    </tr>\n",
       "    <tr>\n",
       "      <th>25</th>\n",
       "      <td>600</td>\n",
       "      <td>10</td>\n",
       "      <td>0.811256</td>\n",
       "      <td>0.844685</td>\n",
       "    </tr>\n",
       "    <tr>\n",
       "      <th>26</th>\n",
       "      <td>600</td>\n",
       "      <td>20</td>\n",
       "      <td>0.833311</td>\n",
       "      <td>0.861177</td>\n",
       "    </tr>\n",
       "    <tr>\n",
       "      <th>27</th>\n",
       "      <td>600</td>\n",
       "      <td>30</td>\n",
       "      <td>0.833674</td>\n",
       "      <td>0.862081</td>\n",
       "    </tr>\n",
       "    <tr>\n",
       "      <th>28</th>\n",
       "      <td>600</td>\n",
       "      <td>40</td>\n",
       "      <td>0.837026</td>\n",
       "      <td>0.864566</td>\n",
       "    </tr>\n",
       "    <tr>\n",
       "      <th>29</th>\n",
       "      <td>600</td>\n",
       "      <td>50</td>\n",
       "      <td>0.839436</td>\n",
       "      <td>0.866260</td>\n",
       "    </tr>\n",
       "    <tr>\n",
       "      <th>30</th>\n",
       "      <td>700</td>\n",
       "      <td>10</td>\n",
       "      <td>0.822999</td>\n",
       "      <td>0.853609</td>\n",
       "    </tr>\n",
       "    <tr>\n",
       "      <th>31</th>\n",
       "      <td>700</td>\n",
       "      <td>20</td>\n",
       "      <td>0.841127</td>\n",
       "      <td>0.866825</td>\n",
       "    </tr>\n",
       "    <tr>\n",
       "      <th>32</th>\n",
       "      <td>700</td>\n",
       "      <td>30</td>\n",
       "      <td>0.844702</td>\n",
       "      <td>0.869875</td>\n",
       "    </tr>\n",
       "    <tr>\n",
       "      <th>33</th>\n",
       "      <td>700</td>\n",
       "      <td>40</td>\n",
       "      <td>0.844821</td>\n",
       "      <td>0.869536</td>\n",
       "    </tr>\n",
       "    <tr>\n",
       "      <th>34</th>\n",
       "      <td>700</td>\n",
       "      <td>50</td>\n",
       "      <td>0.846847</td>\n",
       "      <td>0.871343</td>\n",
       "    </tr>\n",
       "    <tr>\n",
       "      <th>35</th>\n",
       "      <td>800</td>\n",
       "      <td>10</td>\n",
       "      <td>0.831306</td>\n",
       "      <td>0.859031</td>\n",
       "    </tr>\n",
       "    <tr>\n",
       "      <th>36</th>\n",
       "      <td>800</td>\n",
       "      <td>20</td>\n",
       "      <td>0.842035</td>\n",
       "      <td>0.867051</td>\n",
       "    </tr>\n",
       "    <tr>\n",
       "      <th>37</th>\n",
       "      <td>800</td>\n",
       "      <td>30</td>\n",
       "      <td>0.846463</td>\n",
       "      <td>0.870552</td>\n",
       "    </tr>\n",
       "    <tr>\n",
       "      <th>38</th>\n",
       "      <td>800</td>\n",
       "      <td>40</td>\n",
       "      <td>0.848388</td>\n",
       "      <td>0.872021</td>\n",
       "    </tr>\n",
       "    <tr>\n",
       "      <th>39</th>\n",
       "      <td>800</td>\n",
       "      <td>50</td>\n",
       "      <td>0.849165</td>\n",
       "      <td>0.872473</td>\n",
       "    </tr>\n",
       "  </tbody>\n",
       "</table>\n",
       "</div>"
      ],
      "text/plain": [
       "    max_depth  n_estimators  F1_Score  Accuracy\n",
       "0         100            10  0.686198  0.765277\n",
       "1         100            20  0.706608  0.779849\n",
       "2         100            30  0.709813  0.782221\n",
       "3         100            40  0.712498  0.784593\n",
       "4         100            50  0.708125  0.782108\n",
       "5         200            10  0.761080  0.810008\n",
       "6         200            20  0.768287  0.816446\n",
       "7         200            30  0.773770  0.820739\n",
       "8         200            40  0.777367  0.823111\n",
       "9         200            50  0.776749  0.822998\n",
       "10        300            10  0.789415  0.829210\n",
       "11        300            20  0.801444  0.838473\n",
       "12        300            30  0.803725  0.840506\n",
       "13        300            40  0.808440  0.844121\n",
       "14        300            50  0.808328  0.844008\n",
       "15        400            10  0.803702  0.839489\n",
       "16        400            20  0.820702  0.851689\n",
       "17        400            30  0.821438  0.852479\n",
       "18        400            40  0.825410  0.855642\n",
       "19        400            50  0.826747  0.856885\n",
       "20        500            10  0.817480  0.850446\n",
       "21        500            20  0.829148  0.858579\n",
       "22        500            30  0.834039  0.862758\n",
       "23        500            40  0.837007  0.864679\n",
       "24        500            50  0.839744  0.866825\n",
       "25        600            10  0.811256  0.844685\n",
       "26        600            20  0.833311  0.861177\n",
       "27        600            30  0.833674  0.862081\n",
       "28        600            40  0.837026  0.864566\n",
       "29        600            50  0.839436  0.866260\n",
       "30        700            10  0.822999  0.853609\n",
       "31        700            20  0.841127  0.866825\n",
       "32        700            30  0.844702  0.869875\n",
       "33        700            40  0.844821  0.869536\n",
       "34        700            50  0.846847  0.871343\n",
       "35        800            10  0.831306  0.859031\n",
       "36        800            20  0.842035  0.867051\n",
       "37        800            30  0.846463  0.870552\n",
       "38        800            40  0.848388  0.872021\n",
       "39        800            50  0.849165  0.872473"
      ]
     },
     "execution_count": 24,
     "metadata": {},
     "output_type": "execute_result"
    }
   ],
   "source": [
    "columns = ['max_depth', 'n_estimators','F1_Score', 'Accuracy']\n",
    "#creating dataframe\n",
    "df_dtscores = pd.DataFrame(dt_scores, columns=columns)\n",
    "df_dtscores"
   ]
  },
  {
   "cell_type": "code",
   "execution_count": 25,
   "metadata": {},
   "outputs": [
    {
     "data": {
      "text/plain": [
       "<matplotlib.legend.Legend at 0x28b62b34640>"
      ]
     },
     "execution_count": 25,
     "metadata": {},
     "output_type": "execute_result"
    },
    {
     "data": {
      "image/png": "[encoded data removed]",
      "text/plain": [
       "<Figure size 432x288 with 1 Axes>"
      ]
     },
     "metadata": {
      "needs_background": "light"
     },
     "output_type": "display_data"
    }
   ],
   "source": [
    "# plotting\n",
    "for n in [10, 20, 30, 40, 50]:\n",
    "    df_subset = df_dtscores[df_dtscores.n_estimators == n]\n",
    "    \n",
    "    plt.plot(df_subset.max_depth, df_subset.F1_Score, \n",
    "             label='n_estimators=%d' % n)\n",
    "\n",
    "plt.legend()"
   ]
  },
  {
   "cell_type": "markdown",
   "metadata": {},
   "source": [
    "Processing test data"
   ]
  },
  {
   "cell_type": "code",
   "execution_count": 71,
   "metadata": {},
   "outputs": [
    {
     "data": {
      "text/html": [
       "<div>\n",
       "<style scoped>\n",
       "    .dataframe tbody tr th:only-of-type {\n",
       "        vertical-align: middle;\n",
       "    }\n",
       "\n",
       "    .dataframe tbody tr th {\n",
       "        vertical-align: top;\n",
       "    }\n",
       "\n",
       "    .dataframe thead th {\n",
       "        text-align: right;\n",
       "    }\n",
       "</style>\n",
       "<table border=\"1\" class=\"dataframe\">\n",
       "  <thead>\n",
       "    <tr style=\"text-align: right;\">\n",
       "      <th></th>\n",
       "      <th>headline</th>\n",
       "      <th>clean_data</th>\n",
       "    </tr>\n",
       "  </thead>\n",
       "  <tbody>\n",
       "    <tr>\n",
       "      <th>0</th>\n",
       "      <td>area stand-up comedian questions the deal with...</td>\n",
       "      <td>area standup comedian question deal drivethru ...</td>\n",
       "    </tr>\n",
       "    <tr>\n",
       "      <th>1</th>\n",
       "      <td>dozens of glowing exit signs mercilessly taunt...</td>\n",
       "      <td>dozen glow exit sign mercilessly taunt multipl...</td>\n",
       "    </tr>\n",
       "    <tr>\n",
       "      <th>2</th>\n",
       "      <td>perfect response to heckler somewhere in prop ...</td>\n",
       "      <td>perfect response heckler prop comedian trunk</td>\n",
       "    </tr>\n",
       "    <tr>\n",
       "      <th>3</th>\n",
       "      <td>gop prays for ossoff lossoff</td>\n",
       "      <td>gop prays ossoff lossoff</td>\n",
       "    </tr>\n",
       "    <tr>\n",
       "      <th>4</th>\n",
       "      <td>trevor noah says the scary truth about trump's...</td>\n",
       "      <td>trevor noah say scary truth trump rumor love c...</td>\n",
       "    </tr>\n",
       "  </tbody>\n",
       "</table>\n",
       "</div>"
      ],
      "text/plain": [
       "                                            headline  \\\n",
       "0  area stand-up comedian questions the deal with...   \n",
       "1  dozens of glowing exit signs mercilessly taunt...   \n",
       "2  perfect response to heckler somewhere in prop ...   \n",
       "3                       gop prays for ossoff lossoff   \n",
       "4  trevor noah says the scary truth about trump's...   \n",
       "\n",
       "                                          clean_data  \n",
       "0  area standup comedian question deal drivethru ...  \n",
       "1  dozen glow exit sign mercilessly taunt multipl...  \n",
       "2       perfect response heckler prop comedian trunk  \n",
       "3                           gop prays ossoff lossoff  \n",
       "4  trevor noah say scary truth trump rumor love c...  "
      ]
     },
     "execution_count": 71,
     "metadata": {},
     "output_type": "execute_result"
    }
   ],
   "source": [
    "test_data['clean_data'] = test_data['headline'].apply(lambda x: normalize_document(x)) # normalize text\n",
    "test_data['clean_data'] = test_data['clean_data'].apply(lambda x: remove_stop(x)) # remove stopwords\n",
    "test_data['clean_data'] = test_data['clean_data'].apply(lambda x: lemmatize(x)) # lemmatize text\n",
    "test_data.head()"
   ]
  },
  {
   "cell_type": "markdown",
   "metadata": {},
   "source": [
    "Encoding test data"
   ]
  },
  {
   "cell_type": "code",
   "execution_count": 72,
   "metadata": {},
   "outputs": [
    {
     "name": "stdout",
     "output_type": "stream",
     "text": [
      "(11066, 22282)\n"
     ]
    }
   ],
   "source": [
    "#transforming test data\n",
    "test_df = transform_text(test_data)\n",
    "print(test_df.shape)"
   ]
  },
  {
   "cell_type": "markdown",
   "metadata": {},
   "source": [
    "Predicting test data"
   ]
  },
  {
   "cell_type": "code",
   "execution_count": 73,
   "metadata": {},
   "outputs": [
    {
     "data": {
      "text/plain": [
       "array([1, 1, 1, ..., 0, 1, 0], dtype=int64)"
      ]
     },
     "execution_count": 73,
     "metadata": {},
     "output_type": "execute_result"
    }
   ],
   "source": [
    "# best model is random forest\n",
    "preds = rf.predict(test_df)\n",
    "preds"
   ]
  },
  {
   "cell_type": "code",
   "execution_count": 74,
   "metadata": {},
   "outputs": [
    {
     "data": {
      "text/html": [
       "<div>\n",
       "<style scoped>\n",
       "    .dataframe tbody tr th:only-of-type {\n",
       "        vertical-align: middle;\n",
       "    }\n",
       "\n",
       "    .dataframe tbody tr th {\n",
       "        vertical-align: top;\n",
       "    }\n",
       "\n",
       "    .dataframe thead th {\n",
       "        text-align: right;\n",
       "    }\n",
       "</style>\n",
       "<table border=\"1\" class=\"dataframe\">\n",
       "  <thead>\n",
       "    <tr style=\"text-align: right;\">\n",
       "      <th></th>\n",
       "      <th>prediction</th>\n",
       "    </tr>\n",
       "  </thead>\n",
       "  <tbody>\n",
       "    <tr>\n",
       "      <th>0</th>\n",
       "      <td>1</td>\n",
       "    </tr>\n",
       "    <tr>\n",
       "      <th>1</th>\n",
       "      <td>1</td>\n",
       "    </tr>\n",
       "    <tr>\n",
       "      <th>2</th>\n",
       "      <td>1</td>\n",
       "    </tr>\n",
       "    <tr>\n",
       "      <th>3</th>\n",
       "      <td>0</td>\n",
       "    </tr>\n",
       "    <tr>\n",
       "      <th>4</th>\n",
       "      <td>0</td>\n",
       "    </tr>\n",
       "  </tbody>\n",
       "</table>\n",
       "</div>"
      ],
      "text/plain": [
       "   prediction\n",
       "0           1\n",
       "1           1\n",
       "2           1\n",
       "3           0\n",
       "4           0"
      ]
     },
     "execution_count": 74,
     "metadata": {},
     "output_type": "execute_result"
    }
   ],
   "source": [
    "# creating dataframe of the scores\n",
    "scores_df = pd.DataFrame(preds)\n",
    "scores_df.columns = ['prediction']\n",
    "scores_df.head()"
   ]
  },
  {
   "cell_type": "code",
   "execution_count": 75,
   "metadata": {},
   "outputs": [
    {
     "name": "stderr",
     "output_type": "stream",
     "text": [
      "C:\\Users\\JORN\\anaconda3\\lib\\site-packages\\seaborn\\_decorators.py:36: FutureWarning: Pass the following variable as a keyword arg: x. From version 0.12, the only valid positional argument will be `data`, and passing other arguments without an explicit keyword will result in an error or misinterpretation.\n",
      "  warnings.warn(\n"
     ]
    },
    {
     "data": {
      "text/plain": [
       "<AxesSubplot:xlabel='prediction', ylabel='count'>"
      ]
     },
     "execution_count": 75,
     "metadata": {},
     "output_type": "execute_result"
    },
    {
     "data": {
      "image/png": "[encoded data removed]",
      "text/plain": [
       "<Figure size 432x288 with 1 Axes>"
      ]
     },
     "metadata": {
      "needs_background": "light"
     },
     "output_type": "display_data"
    }
   ],
   "source": [
    "# Checking  the distribution of your predictions\n",
    "import seaborn as sns\n",
    "sns.countplot(scores_df.prediction)"
   ]
  },
  {
   "cell_type": "code",
   "execution_count": 77,
   "metadata": {},
   "outputs": [],
   "source": [
    "#creating a csv file\n",
    "scores_df.to_csv('results.csv', index = False)"
   ]
  },
  {
   "cell_type": "code",
   "execution_count": 76,
   "metadata": {},
   "outputs": [
    {
     "data": {
      "text/plain": [
       "(11066, 1)"
      ]
     },
     "execution_count": 76,
     "metadata": {},
     "output_type": "execute_result"
    }
   ],
   "source": [
    "scores_df.shape"
   ]
  }
 ],
 "metadata": {
  "kernelspec": {
   "display_name": "Python 3",
   "language": "python",
   "name": "python3"
  },
  "language_info": {
   "codemirror_mode": {
    "name": "ipython",
    "version": 3
   },
   "file_extension": ".py",
   "mimetype": "text/x-python",
   "name": "python",
   "nbconvert_exporter": "python",
   "pygments_lexer": "ipython3",
   "version": "3.8.5"
  }
 },
 "nbformat": 4,
 "nbformat_minor": 4
}
